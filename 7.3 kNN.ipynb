{
 "cells": [
  {
   "cell_type": "code",
   "execution_count": null,
   "id": "d21c2465",
   "metadata": {},
   "outputs": [],
   "source": [
    "import matplotlib.pyplot as plt\n",
    "import pandas as pd\n",
    "from sklearn.model_selection import KFold, cross_val_score\n",
    "import numpy as np\n",
    "from sklearn.preprocessing import scale\n",
    "from sklearn.datasets import fetch_openml\n",
    "from sklearn.neighbors import KNeighborsRegressor"
   ]
  },
  {
   "cell_type": "markdown",
   "id": "1c358c79",
   "metadata": {},
   "source": [
    "Задача 1. "
   ]
  },
  {
   "cell_type": "code",
   "execution_count": 4,
   "id": "9c0443e2",
   "metadata": {},
   "outputs": [
    {
     "name": "stdout",
     "output_type": "stream",
     "text": [
      "      CRIM    ZN  INDUS CHAS    NOX     RM   AGE     DIS RAD    TAX  PTRATIO  \\\n",
      "0  0.00632  18.0   2.31    0  0.538  6.575  65.2  4.0900   1  296.0     15.3   \n",
      "1  0.02731   0.0   7.07    0  0.469  6.421  78.9  4.9671   2  242.0     17.8   \n",
      "2  0.02729   0.0   7.07    0  0.469  7.185  61.1  4.9671   2  242.0     17.8   \n",
      "3  0.03237   0.0   2.18    0  0.458  6.998  45.8  6.0622   3  222.0     18.7   \n",
      "4  0.06905   0.0   2.18    0  0.458  7.147  54.2  6.0622   3  222.0     18.7   \n",
      "\n",
      "        B  LSTAT  \n",
      "0  396.90   4.98  \n",
      "1  396.90   9.14  \n",
      "2  392.83   4.03  \n",
      "3  394.63   2.94  \n",
      "4  396.90   5.33  \n",
      "\n",
      "целевая переменная:\n",
      "0    24.0\n",
      "1    21.6\n",
      "2    34.7\n",
      "3    33.4\n",
      "4    36.2\n",
      "Name: MEDV, dtype: float64\n"
     ]
    }
   ],
   "source": [
    "boston = fetch_openml(name=\"boston\", version=1, as_frame=True)\n",
    "\n",
    "X = boston.data\n",
    "y = boston.target\n",
    "\n",
    "print(X.head())\n",
    "print(\"\\nцелевая переменная:\")\n",
    "print(y.head())"
   ]
  },
  {
   "cell_type": "markdown",
   "id": "6d1991e0",
   "metadata": {},
   "source": [
    "Задача 2"
   ]
  },
  {
   "cell_type": "code",
   "execution_count": 7,
   "id": "50f3e665",
   "metadata": {},
   "outputs": [
    {
     "name": "stdout",
     "output_type": "stream",
     "text": [
      "Нормализованные признаки:\n",
      "[[-0.41978194  0.28482986 -1.2879095  -0.27259857 -0.14421743  0.41367189\n",
      "  -0.12001342  0.1402136  -0.98284286 -0.66660821 -1.45900038  0.44105193\n",
      "  -1.0755623 ]\n",
      " [-0.41733926 -0.48772236 -0.59338101 -0.27259857 -0.74026221  0.19427445\n",
      "   0.36716642  0.55715988 -0.8678825  -0.98732948 -0.30309415  0.44105193\n",
      "  -0.49243937]\n",
      " [-0.41734159 -0.48772236 -0.59338101 -0.27259857 -0.74026221  1.28271368\n",
      "  -0.26581176  0.55715988 -0.8678825  -0.98732948 -0.30309415  0.39642699\n",
      "  -1.2087274 ]\n",
      " [-0.41675042 -0.48772236 -1.30687771 -0.27259857 -0.83528384  1.01630251\n",
      "  -0.80988851  1.07773662 -0.75292215 -1.10611514  0.1130321   0.41616284\n",
      "  -1.36151682]\n",
      " [-0.41248185 -0.48772236 -1.30687771 -0.27259857 -0.83528384  1.22857665\n",
      "  -0.51117971  1.07773662 -0.75292215 -1.10611514  0.1130321   0.44105193\n",
      "  -1.02650148]]\n",
      "\n",
      "Целевая переменная:\n",
      "0    24.0\n",
      "1    21.6\n",
      "2    34.7\n",
      "3    33.4\n",
      "4    36.2\n",
      "Name: MEDV, dtype: float64\n"
     ]
    }
   ],
   "source": [
    "X_scaled = scale(X)\n",
    "\n",
    "print(\"Нормализованные признаки:\")\n",
    "print(X_scaled[:5])\n",
    "print(\"\\nЦелевая переменная:\")\n",
    "print(y.head())"
   ]
  },
  {
   "cell_type": "markdown",
   "id": "b6b14470",
   "metadata": {},
   "source": [
    "Задача 3"
   ]
  },
  {
   "cell_type": "code",
   "execution_count": 10,
   "id": "e343a806",
   "metadata": {},
   "outputs": [
    {
     "name": "stdout",
     "output_type": "stream",
     "text": [
      "оптимальное знач-е p: 1.0\n",
      "МИН значчение средней квадратической ошибки (MSE): 16.030646734221644\n"
     ]
    }
   ],
   "source": [
    "p_values = np.linspace(1, 10, 200)\n",
    "\n",
    "mean_scores = []\n",
    "\n",
    "kf = KFold(n_splits=5, shuffle=True, random_state=42)\n",
    "\n",
    "for p in p_values:\n",
    "    model = KNeighborsRegressor(n_neighbors=5, weights='distance', metric='minkowski', p=p)\n",
    "    scores = cross_val_score(model, X_scaled, y, cv=kf, scoring='neg_mean_squared_error')\n",
    "    mean_scores.append(-scores.mean())\n",
    "\n",
    "best_p_index = np.argmin(mean_scores)\n",
    "best_p = p_values[best_p_index]\n",
    "best_mse = mean_scores[best_p_index]\n",
    "\n",
    "print(f\"оптимальное знач-е p: {best_p}\")\n",
    "print(f\"МИН значчение средней квадратической ошибки (MSE): {best_mse}\")"
   ]
  },
  {
   "cell_type": "markdown",
   "id": "f07292b4",
   "metadata": {},
   "source": [
    "Задача 4"
   ]
  },
  {
   "cell_type": "markdown",
   "id": "94e4030e",
   "metadata": {},
   "source": [
    "Для определения оптимального значения  **p** в модели kNN я провела поиск по диапазону значений от 1 до 10 с шагом 0.05. Где для  каждого значения p была вычислена средняя ошибка (MSE) на 5-кратной кросс-валидации. \n",
    "\n",
    "Минимальное значение средней ошибки (16.03) было достигнуто при p=1.0."
   ]
  }
 ],
 "metadata": {
  "kernelspec": {
   "display_name": "env",
   "language": "python",
   "name": "python3"
  },
  "language_info": {
   "codemirror_mode": {
    "name": "ipython",
    "version": 3
   },
   "file_extension": ".py",
   "mimetype": "text/x-python",
   "name": "python",
   "nbconvert_exporter": "python",
   "pygments_lexer": "ipython3",
   "version": "3.13.2"
  }
 },
 "nbformat": 4,
 "nbformat_minor": 5
}
