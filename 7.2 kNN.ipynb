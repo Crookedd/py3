{
 "cells": [
  {
   "cell_type": "code",
   "execution_count": 2,
   "id": "e9452701",
   "metadata": {},
   "outputs": [],
   "source": [
    "import matplotlib.pyplot as plt\n",
    "import pandas as pd\n",
    "from sklearn.model_selection import KFold, cross_val_score\n",
    "from sklearn.neighbors import KNeighborsClassifier\n",
    "from sklearn.metrics import accuracy_score\n",
    "import numpy as np"
   ]
  },
  {
   "cell_type": "markdown",
   "id": "7d183f44",
   "metadata": {},
   "source": [
    "Задача 1"
   ]
  },
  {
   "cell_type": "code",
   "execution_count": 3,
   "id": "191d65b4",
   "metadata": {},
   "outputs": [
    {
     "name": "stdout",
     "output_type": "stream",
     "text": [
      "   0      1     2     3     4    5     6     7     8     9     10    11    12  \\\n",
      "0   1  14.23  1.71  2.43  15.6  127  2.80  3.06  0.28  2.29  5.64  1.04  3.92   \n",
      "1   1  13.20  1.78  2.14  11.2  100  2.65  2.76  0.26  1.28  4.38  1.05  3.40   \n",
      "2   1  13.16  2.36  2.67  18.6  101  2.80  3.24  0.30  2.81  5.68  1.03  3.17   \n",
      "3   1  14.37  1.95  2.50  16.8  113  3.85  3.49  0.24  2.18  7.80  0.86  3.45   \n",
      "4   1  13.24  2.59  2.87  21.0  118  2.80  2.69  0.39  1.82  4.32  1.04  2.93   \n",
      "\n",
      "     13  \n",
      "0  1065  \n",
      "1  1050  \n",
      "2  1185  \n",
      "3  1480  \n",
      "4   735  \n"
     ]
    }
   ],
   "source": [
    "url = \"https://archive.ics.uci.edu/ml/machine-learning-databases/wine/wine.data\"\n",
    "\n",
    "data = pd.read_csv(url, header=None)\n",
    "\n",
    "print(data.head())"
   ]
  },
  {
   "cell_type": "markdown",
   "id": "7f437167",
   "metadata": {},
   "source": [
    "Задача 2"
   ]
  },
  {
   "cell_type": "code",
   "execution_count": 4,
   "id": "03b2994e",
   "metadata": {},
   "outputs": [
    {
     "name": "stdout",
     "output_type": "stream",
     "text": [
      "Признаки (X) размер: (178, 13)\n",
      "Классы (y) размер: (178,)\n"
     ]
    }
   ],
   "source": [
    "X = data.iloc[:, 1:].values\n",
    "y = data.iloc[:, 0].values \n",
    "\n",
    "print(\"Признаки (X) размер:\", X.shape)\n",
    "print(\"Классы (y) размер:\", y.shape)"
   ]
  },
  {
   "cell_type": "markdown",
   "id": "51245791",
   "metadata": {},
   "source": [
    "Задача 3"
   ]
  },
  {
   "cell_type": "code",
   "execution_count": 5,
   "id": "0d8a08c1",
   "metadata": {},
   "outputs": [
    {
     "name": "stdout",
     "output_type": "stream",
     "text": [
      "Точность для фолда: [0.94444444 0.94444444 0.97222222 0.91428571 0.97142857]\n",
      "Средняя точность accuracy: 0.9493650793650794\n"
     ]
    }
   ],
   "source": [
    "from sklearn.preprocessing import scale\n",
    "\n",
    "X_scaled = scale(X)\n",
    "kf = KFold(n_splits=5, shuffle=True, random_state=42)\n",
    "model = KNeighborsClassifier(n_neighbors=5) \n",
    "\n",
    "scores = cross_val_score(model, X_scaled, y, cv=kf, scoring='accuracy')\n",
    "print(\"Точность для фолда:\", scores)\n",
    "print(\"Средняя точность accuracy:\", scores.mean())"
   ]
  },
  {
   "cell_type": "markdown",
   "id": "0b78993e",
   "metadata": {},
   "source": [
    "Задача 4"
   ]
  },
  {
   "cell_type": "code",
   "execution_count": 6,
   "id": "bff0d6c6",
   "metadata": {},
   "outputs": [
    {
     "name": "stdout",
     "output_type": "stream",
     "text": [
      "оптимальное значение k: 29\n",
      "максимальная точность accuracy: 0.978\n"
     ]
    }
   ],
   "source": [
    "from sklearn.preprocessing import scale\n",
    "X_scaled = scale(X)\n",
    "k_values = range(1, 51)\n",
    "cv_scores = []\n",
    "\n",
    "for k in k_values:\n",
    "    knn = KNeighborsClassifier(n_neighbors=k)\n",
    "    scores = cross_val_score(knn, X_scaled, y, cv=kf, scoring='accuracy')\n",
    "    cv_scores.append(scores.mean())\n",
    "\n",
    "best_k = k_values[cv_scores.index(max(cv_scores))]\n",
    "best_score = max(cv_scores)\n",
    "\n",
    "print(f\"оптимальное значение k: {best_k}\")\n",
    "print(f\"максимальная точность accuracy: {best_score:.3f}\")"
   ]
  },
  {
   "cell_type": "markdown",
   "id": "ae3590c3",
   "metadata": {},
   "source": [
    "Задача 5"
   ]
  },
  {
   "cell_type": "code",
   "execution_count": 7,
   "id": "2076260d",
   "metadata": {},
   "outputs": [
    {
     "name": "stdout",
     "output_type": "stream",
     "text": [
      "оптимальное k после стандартизации: 29\n",
      "МАКС точность после стандартизации: 0.978\n"
     ]
    }
   ],
   "source": [
    "X_scaled_std = scale(X)\n",
    "\n",
    "cv_scores_std = []\n",
    "\n",
    "for k in range(1, 51):\n",
    "    knn = KNeighborsClassifier(n_neighbors=k)\n",
    "    scores = cross_val_score(knn, X_scaled_std, y, cv=kf, scoring='accuracy')\n",
    "    cv_scores_std.append(scores.mean())\n",
    "\n",
    "best_k_std = np.argmax(cv_scores_std) + 1\n",
    "best_score_std = max(cv_scores_std)\n",
    "\n",
    "print(f\"оптимальное k после стандартизации: {best_k_std}\")\n",
    "print(f\"МАКС точность после стандартизации: {best_score_std:.3f}\")"
   ]
  },
  {
   "cell_type": "markdown",
   "id": "1a649ead",
   "metadata": {},
   "source": [
    "Задача 6.Какое значение k получилось оптимальным после приведения признаков к одному\n",
    "масштабу? Как изменилось значение качества?"
   ]
  },
  {
   "cell_type": "markdown",
   "id": "89361692",
   "metadata": {},
   "source": [
    "Ответ: оптимальное значение k = 29, максимальная точность = 0,978\n",
    "качество не изменилось, стандартизация не повлияла на итоговую точность модели"
   ]
  }
 ],
 "metadata": {
  "kernelspec": {
   "display_name": "env",
   "language": "python",
   "name": "python3"
  },
  "language_info": {
   "codemirror_mode": {
    "name": "ipython",
    "version": 3
   },
   "file_extension": ".py",
   "mimetype": "text/x-python",
   "name": "python",
   "nbconvert_exporter": "python",
   "pygments_lexer": "ipython3",
   "version": "3.13.2"
  }
 },
 "nbformat": 4,
 "nbformat_minor": 5
}
