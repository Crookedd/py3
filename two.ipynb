{
 "cells": [
  {
   "cell_type": "code",
   "execution_count": null,
   "metadata": {},
   "outputs": [],
   "source": [
    "import pandas as pd\n",
    "# можно и так: import seaborn as sb\n",
    "from scipy import stats\n",
    "%matplotlib inline"
   ]
  },
  {
   "cell_type": "markdown",
   "metadata": {},
   "source": [
    "В файле water.txt представлено 61 наблюдение. Каждое наблюдение – город в\n",
    "Англии и Уэльсе. Города дополнительно поделены на северные и южные. Для\n",
    "каждого города известны средняя годовая смертность на 100000 населения (по\n",
    "данным 1958–1964) и концентрация кальция в питьевой воде (в частях на\n",
    "миллион). Чем выше концентрация кальция, тем жёстче вода."
   ]
  },
  {
   "cell_type": "code",
   "execution_count": 8,
   "metadata": {},
   "outputs": [
    {
     "name": "stderr",
     "output_type": "stream",
     "text": [
      "<>:2: SyntaxWarning: invalid escape sequence '\\w'\n",
      "<>:2: SyntaxWarning: invalid escape sequence '\\w'\n",
      "C:\\Users\\User\\AppData\\Local\\Temp\\ipykernel_3972\\606978785.py:2: SyntaxWarning: invalid escape sequence '\\w'\n",
      "  df = pd.read_csv('data\\water.txt', delimiter=\"\t\")\n"
     ]
    },
    {
     "data": {
      "text/html": [
       "<div>\n",
       "<style scoped>\n",
       "    .dataframe tbody tr th:only-of-type {\n",
       "        vertical-align: middle;\n",
       "    }\n",
       "\n",
       "    .dataframe tbody tr th {\n",
       "        vertical-align: top;\n",
       "    }\n",
       "\n",
       "    .dataframe thead th {\n",
       "        text-align: right;\n",
       "    }\n",
       "</style>\n",
       "<table border=\"1\" class=\"dataframe\">\n",
       "  <thead>\n",
       "    <tr style=\"text-align: right;\">\n",
       "      <th></th>\n",
       "      <th>locatio</th>\n",
       "      <th>tow</th>\n",
       "      <th>mortalit</th>\n",
       "      <th>hardness</th>\n",
       "    </tr>\n",
       "  </thead>\n",
       "  <tbody>\n",
       "    <tr>\n",
       "      <th>0</th>\n",
       "      <td>Sout</td>\n",
       "      <td>Bat</td>\n",
       "      <td>124</td>\n",
       "      <td>105</td>\n",
       "    </tr>\n",
       "    <tr>\n",
       "      <th>1</th>\n",
       "      <td>Nort</td>\n",
       "      <td>Birkenhea</td>\n",
       "      <td>166</td>\n",
       "      <td>17</td>\n",
       "    </tr>\n",
       "    <tr>\n",
       "      <th>2</th>\n",
       "      <td>Sout</td>\n",
       "      <td>Birmingha</td>\n",
       "      <td>146</td>\n",
       "      <td>5</td>\n",
       "    </tr>\n",
       "    <tr>\n",
       "      <th>3</th>\n",
       "      <td>Nort</td>\n",
       "      <td>Blackbur</td>\n",
       "      <td>180</td>\n",
       "      <td>14</td>\n",
       "    </tr>\n",
       "    <tr>\n",
       "      <th>4</th>\n",
       "      <td>Nort</td>\n",
       "      <td>Blackpoo</td>\n",
       "      <td>160</td>\n",
       "      <td>18</td>\n",
       "    </tr>\n",
       "  </tbody>\n",
       "</table>\n",
       "</div>"
      ],
      "text/plain": [
       "  locatio        tow  mortalit  hardness\n",
       "0    Sout        Bat       124       105\n",
       "1    Nort  Birkenhea       166        17\n",
       "2    Sout  Birmingha       146         5\n",
       "3    Nort   Blackbur       180        14\n",
       "4    Nort   Blackpoo       160        18"
      ]
     },
     "execution_count": 8,
     "metadata": {},
     "output_type": "execute_result"
    }
   ],
   "source": [
    "pd.set_option('display.max_columns', 100)\n",
    "df = pd.read_csv('data\\water.txt', delimiter=\"\t\")\n",
    "df.head()"
   ]
  },
  {
   "cell_type": "markdown",
   "metadata": {},
   "source": [
    "**1) Используя метод .describe() вычислите описательные статистики для северных и\n",
    "южных городов. Сравните средние значения смертности в северных и южных\n",
    "городах и значения концентрации кальция в питьевой воде.**"
   ]
  },
  {
   "cell_type": "code",
   "execution_count": 11,
   "metadata": {},
   "outputs": [
    {
     "name": "stdout",
     "output_type": "stream",
     "text": [
      "Описательные статистики для северных городов:\n",
      "         mortalit   hardness\n",
      "count   35.000000  35.000000\n",
      "mean   162.857143  30.400000\n",
      "std     13.760863  26.134494\n",
      "min    137.000000   6.000000\n",
      "25%    155.000000  12.500000\n",
      "50%    163.000000  17.000000\n",
      "75%    171.500000  44.000000\n",
      "max    198.000000  94.000000\n",
      "Описательные статистики для южных городов:\n",
      "         mortalit    hardness\n",
      "count   26.000000   26.000000\n",
      "mean   137.076923   69.769231\n",
      "std     14.053962   40.360682\n",
      "min    109.000000    5.000000\n",
      "25%    125.250000   40.250000\n",
      "50%    135.500000   75.500000\n",
      "75%    148.000000   99.750000\n",
      "max    162.000000  138.000000\n"
     ]
    }
   ],
   "source": [
    "north_df = df[df['locatio'] == 'Nort']\n",
    "south_df = df[df['locatio'] == 'Sout']\n",
    "\n",
    "print(\"Описательные статистики для северных городов:\")\n",
    "print(north_df.describe())\n",
    "\n",
    "print(\"Описательные статистики для южных городов:\")\n",
    "print(south_df.describe())\n"
   ]
  },
  {
   "cell_type": "code",
   "execution_count": null,
   "metadata": {},
   "outputs": [
    {
     "name": "stdout",
     "output_type": "stream",
     "text": [
      "Средняя смертность в северных городах: 162.85714285714286\n",
      "Средняя смертность в южных городах: 137.07692307692307\n",
      "Средняя концентрация кальция в северных городах: 30.4\n",
      "Средняя концентрация кальция в южных городах: 69.76923076923077\n"
     ]
    }
   ],
   "source": [
    "print(\"Средняя смертность в северных городах:\", north_df['mortalit'].mean())\n",
    "print(\"Средняя смертность в южных городах:\", south_df['mortalit'].mean())\n",
    "print(\"Средняя концентрация кальция в северных городах:\", north_df['hardness'].mean())\n",
    "print(\"Средняя концентрация кальция в южных городах:\", south_df['hardness'].mean())\n"
   ]
  },
  {
   "cell_type": "markdown",
   "metadata": {},
   "source": [
    "Вывод: \n",
    "    - Средняя смертность в северных городах выше, чем в южных \n",
    "    - Средняя концентрация кальция в южных городах выше, чем в северных"
   ]
  },
  {
   "cell_type": "markdown",
   "metadata": {},
   "source": [
    "**2) Постройте 95% доверительные интервалы для средней годовой смертности по\n",
    "всем южным и северным городам. Отличаются ли границы интервалов?**"
   ]
  },
  {
   "cell_type": "code",
   "execution_count": 20,
   "metadata": {},
   "outputs": [
    {
     "name": "stdout",
     "output_type": "stream",
     "text": [
      "95% доверительный интервал для средней смертности в северных городах:  (np.float64(134.89170502252813), np.float64(190.8225806917576))\n",
      "95% доверительный интервал для средней смертности в южных городах:  (np.float64(108.51583609432791), np.float64(165.63801005951822))\n"
     ]
    }
   ],
   "source": [
    "north_mean = north_df['mortalit'].mean()\n",
    "south_mean = south_df['mortalit'].mean()\n",
    "\n",
    "north_std = north_df['mortalit'].std()\n",
    "south_std = south_df['mortalit'].std()\n",
    "\n",
    "\n",
    "confidence_interval_north = stats.t.interval(\n",
    "    0.95, \n",
    "    len(north_df) - 1, \n",
    "    loc=north_mean, \n",
    "    scale=north_std\n",
    ")\n",
    "\n",
    "confidence_interval_south = stats.t.interval(\n",
    "    0.95, \n",
    "    len(north_df) - 1, \n",
    "    loc=south_mean, \n",
    "    scale=south_std\n",
    ")\n",
    "\n",
    "print('95% доверительный интервал для средней смертности в северных городах: ', confidence_interval_north)\n",
    "print('95% доверительный интервал для средней смертности в южных городах: ', confidence_interval_south)\n"
   ]
  },
  {
   "cell_type": "markdown",
   "metadata": {},
   "source": [
    "Границы интервалов отличаются"
   ]
  },
  {
   "cell_type": "markdown",
   "metadata": {},
   "source": [
    "**3) Постройте 95% доверительные интервалы для средней концентрации кальция в\n",
    "питьевой воде для южных и северных городов. Отличаются ли границы\n",
    "интервалов?**"
   ]
  },
  {
   "cell_type": "code",
   "execution_count": 23,
   "metadata": {},
   "outputs": [
    {
     "name": "stdout",
     "output_type": "stream",
     "text": [
      "95% доверительный интервал для средней концентрации кальция в северных городах:  (np.float64(-22.711681471446482), np.float64(83.51168147144648))\n",
      "95% доверительный интервал для средней концентрации кальция в южных городах:  (np.float64(-12.253542708216216), np.float64(151.79200424667778))\n"
     ]
    }
   ],
   "source": [
    "confidence_interval_north = stats.t.interval(\n",
    "    0.95, \n",
    "    len(north_df) - 1, \n",
    "    loc=north_df['hardness'].mean(), \n",
    "    scale=north_df['hardness'].std()\n",
    ")\n",
    "\n",
    "confidence_interval_south = stats.t.interval(\n",
    "    0.95, \n",
    "    len(north_df) - 1, \n",
    "    loc=south_df['hardness'].mean(), \n",
    "    scale=south_df['hardness'].std()\n",
    ")\n",
    "\n",
    "print('95% доверительный интервал для средней концентрации кальция в северных городах: ', confidence_interval_north)\n",
    "print('95% доверительный интервал для средней концентрации кальция в южных городах: ', confidence_interval_south)"
   ]
  },
  {
   "cell_type": "markdown",
   "metadata": {},
   "source": [
    "Границы интервалов отличаются"
   ]
  },
  {
   "cell_type": "markdown",
   "metadata": {},
   "source": [
    "**4) Какие можно сделать выводы?**\n",
    "\n",
    "Смотря на полученные данные можно сделать вывод, что смертность в северных городах выше,чем в южном городе, но при этом вода в северных городах имеет меньшую концентрацию кальция."
   ]
  }
 ],
 "metadata": {
  "kernelspec": {
   "display_name": "env",
   "language": "python",
   "name": "python3"
  },
  "language_info": {
   "codemirror_mode": {
    "name": "ipython",
    "version": 3
   },
   "file_extension": ".py",
   "mimetype": "text/x-python",
   "name": "python",
   "nbconvert_exporter": "python",
   "pygments_lexer": "ipython3",
   "version": "3.13.2"
  }
 },
 "nbformat": 4,
 "nbformat_minor": 2
}
